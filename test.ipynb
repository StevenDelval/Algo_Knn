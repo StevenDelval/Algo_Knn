{
 "cells": [
  {
   "cell_type": "code",
   "execution_count": 74,
   "metadata": {},
   "outputs": [],
   "source": [
    "import pandas as pd\n",
    "import matplotlib.pyplot as plt\n",
    "from sklearn.neighbors import KNeighborsClassifier"
   ]
  },
  {
   "cell_type": "code",
   "execution_count": 75,
   "metadata": {},
   "outputs": [],
   "source": [
    "liste_pokemon = pd.read_csv(\"csv/pokemon.csv\")\n",
    "liste_pokemon.columns =liste_pokemon.columns.str.strip().str.lower().str.replace(' ', '_')\n",
    "\n",
    "pv = liste_pokemon.loc[:,\"points_de_vie\"]\n",
    "att = liste_pokemon.loc[:,\"attaque\"]\n",
    "\n",
    "type_pkmn = liste_pokemon.loc[:,\"type\"]\n",
    "cible =[50,69]\n",
    "k=5"
   ]
  },
  {
   "cell_type": "code",
   "execution_count": 76,
   "metadata": {},
   "outputs": [
    {
     "data": {
      "text/plain": [
       "<matplotlib.legend.Legend at 0x7fc061cc7460>"
      ]
     },
     "execution_count": 76,
     "metadata": {},
     "output_type": "execute_result"
    },
    {
     "data": {
      "image/png": "[encoded data removed]",
      "text/plain": [
       "<Figure size 432x288 with 1 Axes>"
      ]
     },
     "metadata": {
      "needs_background": "light"
     },
     "output_type": "display_data"
    }
   ],
   "source": [
    "plt.scatter(pv.loc[type_pkmn ==\"Eau\"], att.loc[type_pkmn ==\"Eau\"], color='#0080ff', label='Eau')\n",
    "plt.scatter(pv.loc[type_pkmn ==\"Psy\"], att.loc[type_pkmn ==\"Psy\"], color='#fd3d92', label='Psy')\n",
    "plt.scatter(cible[0], cible[1], color='k')\n",
    "plt.legend()"
   ]
  },
  {
   "cell_type": "code",
   "execution_count": 77,
   "metadata": {},
   "outputs": [],
   "source": [
    "d=list(zip(pv,att))\n",
    "model = KNeighborsClassifier(n_neighbors=k)\n",
    "model.fit(d,type_pkmn)\n",
    "prediction= model.predict([cible])"
   ]
  },
  {
   "cell_type": "code",
   "execution_count": 78,
   "metadata": {},
   "outputs": [
    {
     "name": "stdout",
     "output_type": "stream",
     "text": [
      "Résultat : Eau\n"
     ]
    }
   ],
   "source": [
    "txt=\"Résultat : \"\n",
    "if prediction[0] == 'Eau':\n",
    "    txt=txt+\"Eau\"\n",
    "if prediction[0] == \"Psy\":\n",
    "    txt=txt+\"Psy\"\n",
    "\n",
    "print(txt)"
   ]
  },
  {
   "cell_type": "code",
   "execution_count": 81,
   "metadata": {},
   "outputs": [],
   "source": [
    "\"\"\" with open(\"liste_cible.csv\",'a') as liste_cible :\n",
    "    liste_cible.write(\"points_de_vie,attaque\\n\".format(pv,att)) \n",
    "    for pv in range(20,110):\n",
    "        for att in range(35,150):\n",
    "            liste_cible.write(\"{0},{1}\\n\".format(pv,att))   \"\"\" "
   ]
  },
  {
   "cell_type": "code",
   "execution_count": 82,
   "metadata": {},
   "outputs": [
    {
     "data": {
      "image/png": "[encoded data removed]",
      "text/plain": [
       "<Figure size 432x288 with 1 Axes>"
      ]
     },
     "metadata": {
      "needs_background": "light"
     },
     "output_type": "display_data"
    }
   ],
   "source": [
    "liste_cible = pd.read_csv(\"liste_cible.csv\")\n",
    "\n",
    "model = KNeighborsClassifier(n_neighbors=k)\n",
    "model.fit(d,type_pkmn)\n",
    "\n",
    "for index in range(len(liste_cible.index)-1):\n",
    "    prediction= model.predict([[ liste_cible.loc[index][0],liste_cible.loc[index][1]]])\n",
    "    if prediction[0] == 'Eau':\n",
    "        plt.scatter(liste_cible.loc[index][0], liste_cible.loc[index][1], color='#0080ff')\n",
    "    if prediction[0] == \"Psy\":\n",
    "        plt.scatter(liste_cible.loc[index][0], liste_cible.loc[index][1], color='#fd3d92') \n",
    "\n"
   ]
  }
 ],
 "metadata": {
  "kernelspec": {
   "display_name": "Python 3.10.4 ('sdp')",
   "language": "python",
   "name": "python3"
  },
  "language_info": {
   "codemirror_mode": {
    "name": "ipython",
    "version": 3
   },
   "file_extension": ".py",
   "mimetype": "text/x-python",
   "name": "python",
   "nbconvert_exporter": "python",
   "pygments_lexer": "ipython3",
   "version": "3.10.4"
  },
  "orig_nbformat": 4,
  "vscode": {
   "interpreter": {
    "hash": "469afe5406be1ea4e852a1c357dde6a9cd024d419e8b8f25c7fc9ec9e36b640c"
   }
  }
 },
 "nbformat": 4,
 "nbformat_minor": 2
}
