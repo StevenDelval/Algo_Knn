{
 "cells": [
  {
   "cell_type": "code",
   "execution_count": 81,
   "metadata": {},
   "outputs": [],
   "source": [
    "import csv\n",
    "import matplotlib.pyplot as plt "
   ]
  },
  {
   "cell_type": "code",
   "execution_count": 82,
   "metadata": {},
   "outputs": [],
   "source": [
    "with open('csv/pokemon.csv', newline='') as csv_pokemon:\n",
    "    df_pokemon = csv.reader(csv_pokemon, delimiter=',')\n",
    "    liste_pokemon=[]\n",
    "    i=0\n",
    "    for row in df_pokemon:\n",
    "        if i>0 :\n",
    "            liste_pokemon.append(row)\n",
    "        i +=1\n"
   ]
  },
  {
   "cell_type": "code",
   "execution_count": 83,
   "metadata": {},
   "outputs": [],
   "source": [
    "liste_pokemon_eau = [pokemon_eau for pokemon_eau in liste_pokemon if pokemon_eau[3] == \"Eau\"]\n",
    "liste_pokemon_eau = [[pokemon_eau[0],int(pokemon_eau[1]),int(pokemon_eau[2]),pokemon_eau[3]] for pokemon_eau in liste_pokemon_eau ]\n",
    "liste_pokemon_eau = sorted(liste_pokemon_eau,key=lambda x:x[1] )\n",
    "\n",
    "liste_pokemon_psy = [pokemon_psy for pokemon_psy in liste_pokemon if pokemon_psy[3] == \"Psy\"]\n",
    "liste_pokemon_psy = [[pokemon_psy[0],int(pokemon_psy[1]),int(pokemon_psy[2]),pokemon_psy[3]] for pokemon_psy in liste_pokemon_psy ]\n",
    "liste_pokemon_psy = sorted(liste_pokemon_psy,key=lambda x:x[1])\n",
    "\n",
    "      "
   ]
  },
  {
   "cell_type": "code",
   "execution_count": 84,
   "metadata": {},
   "outputs": [],
   "source": [
    "liste_pv_pkm_eau = [pokemon_eau[1] for pokemon_eau in liste_pokemon_eau]\n",
    "liste_att_pkm_eau = [pokemon_eau[2] for pokemon_eau in liste_pokemon_eau]\n",
    "\n",
    "liste_pv_pkm_psy = [pokemon_psy[1] for pokemon_psy in liste_pokemon_psy]\n",
    "liste_att_pkm_psy = [pokemon_psy[2] for pokemon_psy in liste_pokemon_psy]\n"
   ]
  },
  {
   "cell_type": "code",
   "execution_count": 85,
   "metadata": {},
   "outputs": [
    {
     "data": {
      "image/png": "[encoded data removed]",
      "text/plain": [
       "<Figure size 432x288 with 1 Axes>"
      ]
     },
     "metadata": {
      "needs_background": "light"
     },
     "output_type": "display_data"
    }
   ],
   "source": [
    "for pokemon in liste_pokemon_eau:\n",
    "        plt.scatter(pokemon[1],pokemon[2], c='#0080ff')\n",
    "for pokemon in liste_pokemon_psy:        \n",
    "        plt.scatter(pokemon[1],pokemon[2], c='#fd3d92') \n",
    "\n",
    "plt.xlabel('pv')\n",
    "plt.ylabel('att')\n",
    "plt.show()   "
   ]
  }
 ],
 "metadata": {
  "kernelspec": {
   "display_name": "Python 3.10.4 ('sdp')",
   "language": "python",
   "name": "python3"
  },
  "language_info": {
   "codemirror_mode": {
    "name": "ipython",
    "version": 3
   },
   "file_extension": ".py",
   "mimetype": "text/x-python",
   "name": "python",
   "nbconvert_exporter": "python",
   "pygments_lexer": "ipython3",
   "version": "3.10.4"
  },
  "orig_nbformat": 4,
  "vscode": {
   "interpreter": {
    "hash": "469afe5406be1ea4e852a1c357dde6a9cd024d419e8b8f25c7fc9ec9e36b640c"
   }
  }
 },
 "nbformat": 4,
 "nbformat_minor": 2
}
