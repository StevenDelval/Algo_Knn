{
 "cells": [
  {
   "cell_type": "code",
   "execution_count": 23,
   "metadata": {},
   "outputs": [],
   "source": [
    "import csv\n",
    "import matplotlib.pyplot as plt \n",
    "from math import sqrt"
   ]
  },
  {
   "cell_type": "code",
   "execution_count": 24,
   "metadata": {},
   "outputs": [],
   "source": [
    "with open('csv/pokemon.csv', newline='') as csv_pokemon:\n",
    "    df_pokemon = csv.reader(csv_pokemon, delimiter=',')\n",
    "    liste_pokemon=[]\n",
    "    i=0\n",
    "    for row in df_pokemon:\n",
    "        if i>0 :\n",
    "            liste_pokemon.append(row)\n",
    "        i +=1\n",
    "liste_pokemon= [[pokemon[0],int(pokemon[1]),int(pokemon[2]),pokemon[3]] for pokemon in liste_pokemon ]"
   ]
  },
  {
   "cell_type": "code",
   "execution_count": 25,
   "metadata": {},
   "outputs": [],
   "source": [
    "liste_pokemon_eau = [pokemon_eau for pokemon_eau in liste_pokemon if pokemon_eau[3] == \"Eau\"]\n",
    "liste_pokemon_eau = [[pokemon_eau[0],int(pokemon_eau[1]),int(pokemon_eau[2]),pokemon_eau[3]] for pokemon_eau in liste_pokemon_eau ]\n",
    "liste_pokemon_eau = sorted(liste_pokemon_eau,key=lambda x:x[1] )\n",
    "\n",
    "liste_pokemon_psy = [pokemon_psy for pokemon_psy in liste_pokemon if pokemon_psy[3] == \"Psy\"]\n",
    "liste_pokemon_psy = [[pokemon_psy[0],int(pokemon_psy[1]),int(pokemon_psy[2]),pokemon_psy[3]] for pokemon_psy in liste_pokemon_psy ]\n",
    "liste_pokemon_psy = sorted(liste_pokemon_psy,key=lambda x:x[1])\n",
    "\n",
    "\n",
    "      "
   ]
  },
  {
   "cell_type": "code",
   "execution_count": 26,
   "metadata": {},
   "outputs": [],
   "source": [
    "liste_pv_pkm_eau = [pokemon_eau[1] for pokemon_eau in liste_pokemon_eau]\n",
    "liste_att_pkm_eau = [pokemon_eau[2] for pokemon_eau in liste_pokemon_eau]\n",
    "\n",
    "liste_pv_pkm_psy = [pokemon_psy[1] for pokemon_psy in liste_pokemon_psy]\n",
    "liste_att_pkm_psy = [pokemon_psy[2] for pokemon_psy in liste_pokemon_psy]\n"
   ]
  },
  {
   "cell_type": "code",
   "execution_count": 27,
   "metadata": {},
   "outputs": [
    {
     "data": {
      "image/png": "[encoded data removed]",
      "text/plain": [
       "<Figure size 432x288 with 1 Axes>"
      ]
     },
     "metadata": {
      "needs_background": "light"
     },
     "output_type": "display_data"
    }
   ],
   "source": [
    "plt.plot(liste_pv_pkm_eau,liste_att_pkm_eau, 'ob')\n",
    "plt.plot(liste_pv_pkm_psy,liste_att_pkm_psy, 'or')\n",
    "plt.xlabel('pv')\n",
    "plt.ylabel('att')\n",
    "plt.show()   "
   ]
  },
  {
   "cell_type": "code",
   "execution_count": 28,
   "metadata": {},
   "outputs": [
    {
     "data": {
      "image/png": "[encoded data removed]",
      "text/plain": [
       "<Figure size 432x288 with 1 Axes>"
      ]
     },
     "metadata": {
      "needs_background": "light"
     },
     "output_type": "display_data"
    }
   ],
   "source": [
    "for pokemon in liste_pokemon_eau:\n",
    "        plt.scatter(pokemon[1],pokemon[2], c='#0080ff')\n",
    "for pokemon in liste_pokemon_psy:\n",
    "        plt.scatter(pokemon[1],pokemon[2], c='#fd3d92')\n",
    "\n",
    "plt.xlabel('pv')\n",
    "plt.ylabel('att')\n",
    "plt.show()   "
   ]
  },
  {
   "cell_type": "code",
   "execution_count": 29,
   "metadata": {},
   "outputs": [],
   "source": [
    "def calculer_distance(coordonner_pkm_un,coordonner_pkm_deux):\n",
    "    return sqrt((coordonner_pkm_un[0]-coordonner_pkm_deux[0])**2 +(coordonner_pkm_un[1]-coordonner_pkm_deux[1])**2)\n",
    "\n",
    "def calculer_distance_chaque_elt(liste_pokemon,coordonne_point):\n",
    "    liste_pokemon_et_distance=[[pokemon[0],pokemon[1],pokemon[2],pokemon[3],calculer_distance(pokemon[1:3],coordonne_point)] for pokemon in liste_pokemon]\n",
    "    \n",
    "    return liste_pokemon_et_distance\n",
    "\"\"\" def calculer_distance_chaque_elt(liste_pokemon,coordonne_point):\n",
    "    liste_pokemon_et_distance = []\n",
    "    for pokemon in liste_pokemon:\n",
    "        copy_pokemon = pokemon.copy()\n",
    "        copy_pokemon.append(calculer_distance(pokemon[1:3],coordonne_point))\n",
    "        liste_pokemon_et_distance.append(copy_pokemon)\n",
    "        \n",
    "    return liste_pokemon_et_distance \"\"\"\n",
    "\n",
    "def proche_voisin(liste_plus_distance,nb_voisin):\n",
    "    liste_trois_voisin=[]\n",
    "    for pokemon in liste_plus_distance:\n",
    "        liste_trois_voisin.append(pokemon)\n",
    "        liste_trois_voisin.sort(key=lambda x:x[4])\n",
    "        if len(liste_trois_voisin) >nb_voisin :\n",
    "            liste_trois_voisin.pop(-1)\n",
    "    \n",
    "    return liste_trois_voisin"
   ]
  },
  {
   "cell_type": "code",
   "execution_count": 30,
   "metadata": {},
   "outputs": [],
   "source": [
    "import copy\n",
    "\n",
    "def type_du_pkm_entre_eau_et_psy(liste_pokemon,coordonne_point,nb_voisin):\n",
    "    copy_liste_pknm = copy.deepcopy(liste_pokemon)\n",
    "    liste_pokemon_plus_distance = calculer_distance_chaque_elt(copy_liste_pknm,coordonne_point)\n",
    "    liste_voisin = proche_voisin(liste_pokemon_plus_distance,nb_voisin)\n",
    "    eau = 0\n",
    "    psy = 0\n",
    "    print(liste_voisin)\n",
    "    for voisin in liste_voisin:\n",
    "        if voisin[3] == 'Eau':\n",
    "            eau +=1\n",
    "        elif voisin[3] == 'Psy':\n",
    "            psy +=1\n",
    "    if   eau > psy :\n",
    "        print(\"Votre pokemon est de type Eau\")\n",
    "    else :  \n",
    "        print(\"Votre pokemon est de type Psy\")"
   ]
  },
  {
   "cell_type": "code",
   "execution_count": 31,
   "metadata": {},
   "outputs": [
    {
     "name": "stdout",
     "output_type": "stream",
     "text": [
      "[['Carabaffe', 59, 63, 'Eau', 4.0], ['Prinplouf', 64, 66, 'Eau', 5.0990195135927845], ['Gobou', 50, 70, 'Eau', 9.486832980505138], ['Deoxys', 50, 70, 'Psy', 9.486832980505138], ['Gamblast', 71, 73, 'Eau', 13.416407864998739]]\n",
      "Votre pokemon est de type Eau\n"
     ]
    }
   ],
   "source": [
    "\n",
    "type_du_pkm_entre_eau_et_psy(liste_pokemon,[59,67],5)"
   ]
  }
 ],
 "metadata": {
  "kernelspec": {
   "display_name": "Python 3.10.4 ('sdp')",
   "language": "python",
   "name": "python3"
  },
  "language_info": {
   "codemirror_mode": {
    "name": "ipython",
    "version": 3
   },
   "file_extension": ".py",
   "mimetype": "text/x-python",
   "name": "python",
   "nbconvert_exporter": "python",
   "pygments_lexer": "ipython3",
   "version": "3.10.4"
  },
  "orig_nbformat": 4,
  "vscode": {
   "interpreter": {
    "hash": "469afe5406be1ea4e852a1c357dde6a9cd024d419e8b8f25c7fc9ec9e36b640c"
   }
  }
 },
 "nbformat": 4,
 "nbformat_minor": 2
}
